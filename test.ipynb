{
 "cells": [
  {
   "cell_type": "code",
   "execution_count": 53,
   "metadata": {},
   "outputs": [],
   "source": [
    "from vaderSentiment.vaderSentiment import SentimentIntensityAnalyzer\n"
   ]
  },
  {
   "cell_type": "code",
   "execution_count": 54,
   "metadata": {},
   "outputs": [
    {
     "name": "stdout",
     "output_type": "stream",
     "text": [
      "{'neg': 0.0, 'neu': 0.515, 'pos': 0.485, 'compound': 0.5719}\n"
     ]
    }
   ],
   "source": [
    "# Initialize\n",
    "analyzer = SentimentIntensityAnalyzer()\n",
    "\n",
    "# Example tweet\n",
    "tweet = \"Strategy light clearly dream thus force least.\"\n",
    "t2='technology'\n",
    "t3=tweet+''+t2\n",
    "\n",
    "# Get sentiment score\n",
    "scores = analyzer.polarity_scores(t3)\n",
    "\n",
    "# Output\n",
    "print(scores)"
   ]
  },
  {
   "cell_type": "code",
   "execution_count": 55,
   "metadata": {},
   "outputs": [
    {
     "name": "stderr",
     "output_type": "stream",
     "text": [
      "/Users/chaitanya/Documents/proj_grad/venv/lib/python3.10/site-packages/sklearn/utils/validation.py:2739: UserWarning: X does not have valid feature names, but LogisticRegression was fitted with feature names\n",
      "  warnings.warn(\n"
     ]
    },
    {
     "data": {
      "text/plain": [
       "'low'"
      ]
     },
     "execution_count": 55,
     "metadata": {},
     "output_type": "execute_result"
    }
   ],
   "source": [
    "import joblib\n",
    "import pickle\n",
    "x = [[10, 170, 0.7, 60]]  # Reshape p into a 2D array\n",
    "\n",
    "model1=joblib.load('stress_model1.pkl')\n",
    "a=model1.predict(x)\n",
    "a[0]"
   ]
  },
  {
   "cell_type": "code",
   "execution_count": null,
   "metadata": {},
   "outputs": [],
   "source": [
    "from dashboard import plot_imaginary_sentiment_vs_time\n",
    "from sentiment import sentiment_score\n",
    "from alerts import show_recommendation\n",
    "from reports import analyze_score\n",
    "from prediction import prd\n",
    "from dashboard import plot_likes_vs_comments\n",
    "from reports import assign_cognitive_flag\n",
    "\n",
    "\n",
    "def image(likes,coments,time_list, sen_list):\n",
    "    c=plot_likes_vs_comments(likes,coments)\n",
    "    b=plot_imaginary_sentiment_vs_time(time_list, sen_list)\n",
    "    return c,b\n",
    "def alert(recommendation, user_session_time, avg_session_time):\n",
    "    x=show_recommendation(recommendation, user_session_time, avg_session_time)\n",
    "    return x   \n",
    "def assign_flag(userdata):\n",
    "    f=assign_cognitive_flag(userdata) \n",
    "    \n",
    "# def stress():\n",
    "#     p= [[10, 170, 0.7, 60]]\n",
    "#     x=prd(p)\n",
    "#     return x\n",
    "tweet = \"Strategy light clearly dream thus force least.\"\n",
    "t2='technology'\n",
    "# t3=tweet+''+t2\n",
    "def snt(tweet,t2):\n",
    "    t3=tweet+''+t2\n",
    "    m=sentiment_score(tweet,t2)\n",
    "    return m\n",
    "l=[120, 150, 100, 180, 200, 250, 300]\n",
    "c= [30, 45, 20, 50, 60, 70, 90]\n",
    "s=0.5\n",
    "t=77\n",
    "# def dashboard():\n",
    "#     f=image(l,c,t,s)\n",
    "# user_recommendation = \"Limit screen time\"\n",
    "# user_session_time = 160\n",
    "# avg_session_time = 152.11\n",
    "def show_mendation(user_recommendation, user_session_time, avg_session_time):\n",
    "    h=show_recommendation(user_recommendation,user_session_time,avg_session_time)  \n",
    "    return h\n",
    "def rep():\n",
    "    score = 0\n",
    "    s = analyze_score(score)\n",
    "\n",
    "# Sample user data with new fields\n",
    "    user_data = {\n",
    "        \"user_id\": \"user_123\",\n",
    "        \"stress_level\": \"low\",\n",
    "        \"frequent_content_type\": \"educational\",  # Replaces focus_level\n",
    "        \"sentiment_score\": s,  # s = 'neutral'\n",
    "        \"average_session_time_min\": 45  # New field\n",
    "    }    \n",
    "    d=assign_flag(user_data)\n",
    "    return user_data\n",
    "    def show():\n",
    "        show_mendation(user_recommendation,user_session_time,avg_session_time)\n"
   ]
  },
  {
   "cell_type": "code",
   "execution_count": 58,
   "metadata": {},
   "outputs": [
    {
     "ename": "AttributeError",
     "evalue": "module 'joblib' has no attribute 'loa'",
     "output_type": "error",
     "traceback": [
      "\u001b[0;31m---------------------------------------------------------------------------\u001b[0m",
      "\u001b[0;31mAttributeError\u001b[0m                            Traceback (most recent call last)",
      "Cell \u001b[0;32mIn[58], line 1\u001b[0m\n\u001b[0;32m----> 1\u001b[0m \u001b[43mstress\u001b[49m\u001b[43m(\u001b[49m\u001b[43m)\u001b[49m\n",
      "Cell \u001b[0;32mIn[56], line 22\u001b[0m, in \u001b[0;36mstress\u001b[0;34m()\u001b[0m\n\u001b[1;32m     20\u001b[0m \u001b[38;5;28;01mdef\u001b[39;00m\u001b[38;5;250m \u001b[39m\u001b[38;5;21mstress\u001b[39m():\n\u001b[1;32m     21\u001b[0m     p\u001b[38;5;241m=\u001b[39m [[\u001b[38;5;241m10\u001b[39m, \u001b[38;5;241m170\u001b[39m, \u001b[38;5;241m0.7\u001b[39m, \u001b[38;5;241m60\u001b[39m]]\n\u001b[0;32m---> 22\u001b[0m     x\u001b[38;5;241m=\u001b[39m\u001b[43mprd\u001b[49m\u001b[43m(\u001b[49m\u001b[43mp\u001b[49m\u001b[43m)\u001b[49m\n\u001b[1;32m     23\u001b[0m     \u001b[38;5;28;01mreturn\u001b[39;00m x\n",
      "File \u001b[0;32m~/Documents/proj_grad/prediction.py:4\u001b[0m, in \u001b[0;36mprd\u001b[0;34m(x)\u001b[0m\n\u001b[1;32m      3\u001b[0m \u001b[38;5;28;01mdef\u001b[39;00m\u001b[38;5;250m \u001b[39m\u001b[38;5;21mprd\u001b[39m(x):\n\u001b[0;32m----> 4\u001b[0m     model1\u001b[38;5;241m=\u001b[39m\u001b[43mjoblib\u001b[49m\u001b[38;5;241;43m.\u001b[39;49m\u001b[43mloa\u001b[49m(\u001b[38;5;124m'\u001b[39m\u001b[38;5;124mstress_model1.pkl\u001b[39m\u001b[38;5;124m'\u001b[39m)\n\u001b[1;32m      5\u001b[0m     a\u001b[38;5;241m=\u001b[39mmodel1\u001b[38;5;241m.\u001b[39mpredict(x)\n\u001b[1;32m      7\u001b[0m     \u001b[38;5;28;01mreturn\u001b[39;00m(a[\u001b[38;5;241m0\u001b[39m])\n",
      "\u001b[0;31mAttributeError\u001b[0m: module 'joblib' has no attribute 'loa'"
     ]
    }
   ],
   "source": [
    "stress()"
   ]
  },
  {
   "cell_type": "code",
   "execution_count": 57,
   "metadata": {},
   "outputs": [
    {
     "name": "stdout",
     "output_type": "stream",
     "text": [
      "🎯 Hey, champion! You've been rocking it online! But now, it's mission time—step away, smash that priority task, and come back even stronger! 🚀🔥\n",
      "🌟 Hey there! Here's a great idea: Explore the world around you! Try reading a book or going for a walk instead. 🌿📖 🚀\n"
     ]
    }
   ],
   "source": [
    "import tkinter as tk\n",
    "from tkinter import messagebox\n",
    "import os\n",
    "\n",
    "def show_recommendation(recommendation, user_session_time, avg_session_time):\n",
    "    if user_session_time > avg_session_time:\n",
    "        reminder_message = \"🎯 Hey, champion! You've been rocking it online! But now, it's mission time—step away, smash that priority task, and come back even stronger! 🚀🔥\"\n",
    "        # Check if DISPLAY environment variable is set, if not, it's likely a headless environment\n",
    "        if not os.environ.get(\"DISPLAY\"):\n",
    "            print(reminder_message)  # Print reminder to console if no display\n",
    "        else:\n",
    "            root = tk.Tk()\n",
    "            root.withdraw()\n",
    "            messagebox.showwarning(\"Time Reminder\", reminder_message)\n",
    "\n",
    "    if recommendation:\n",
    "        alternative_recommendations = {\n",
    "            \"Connect with a friend\": \"Strengthen your bonds! Call up a friend and share a good laugh. 😄📞\",\n",
    "            \"Listen to calming music\": \"Relax and recharge! Put on your favorite soothing tunes and let the stress melt away. 🎶✨\",\n",
    "            \"Engage in physical exercise\": \"Get moving! A short walk or a dance session can uplift your mood instantly. 🚶‍♂️💃\",\n",
    "            \"Try mindfulness activity\": \"Find your inner peace! Take a deep breath and enjoy a few minutes of meditation. 🧘‍♂️✨\",\n",
    "            \"Limit screen time\": \"Explore the world around you! Try reading a book or going for a walk instead. 🌿📖\",\n",
    "            \"Take a short break\": \"Time for a mini-adventure! Stretch your legs, grab a snack, or look out the window and daydream for a bit. 🚀🌿\"\n",
    "        }\n",
    "\n",
    "        positive_message = alternative_recommendations.get(recommendation, recommendation)\n",
    "        enhanced_message = f\"🌟 Hey there! Here's a great idea: {positive_message} 🚀\"\n",
    "\n",
    "        # Check for DISPLAY environment variable for headless environment\n",
    "        if not os.environ.get(\"DISPLAY\"):\n",
    "            print(enhanced_message)  # Print message to console if no display\n",
    "        else:\n",
    "            root = tk.Tk()\n",
    "            root.withdraw()\n",
    "            messagebox.showinfo(\"Your Personalized Tip\", enhanced_message)\n",
    "    else:\n",
    "        # Check for DISPLAY environment variable for headless environment\n",
    "        if not os.environ.get(\"DISPLAY\"):\n",
    "            print(\"🌟 Stay awesome! More tips coming soon!\")  # Print to console if no display\n",
    "        else:\n",
    "            messagebox.showinfo(\"Your Personalized Tip\", \"🌟 Stay awesome! More tips coming soon!\")\n",
    "\n",
    "# Example usage\n",
    "user_recommendation = \"Limit screen time\"\n",
    "user_session_time = 160\n",
    "avg_session_time = 152.11\n",
    "show_recommendation(user_recommendation, user_session_time, avg_session_time)"
   ]
  },
  {
   "cell_type": "code",
   "execution_count": null,
   "metadata": {},
   "outputs": [],
   "source": []
  },
  {
   "cell_type": "code",
   "execution_count": 10,
   "metadata": {},
   "outputs": [],
   "source": [
    "from prediction import prd\n",
    "from sentiment import sentiment_score\n",
    "def data(x,y,s):\n",
    "    d=prd(s)\n",
    "    f=sentiment_score(x,y)\n",
    "    return(d,f)"
   ]
  },
  {
   "cell_type": "code",
   "execution_count": 19,
   "metadata": {},
   "outputs": [],
   "source": [
    "import matplotlib.pyplot as plt\n",
    "import seaborn as sns\n",
    "import pandas as pd\n",
    "def plot_imaginary_sentiment_vs_time(time,sen):\n",
    "    data={time,sen}\n",
    "\n",
    "    df = pd.DataFrame(data)\n",
    "    \n",
    "    plt.figure(figsize=(10, 6))\n",
    "    sns.lineplot(x=df['time'], y=df['sen'], marker='o')\n",
    "    plt.xlabel(\"Average Session Time (min)\")\n",
    "    plt.ylabel(\"Sentiment Score\")\n",
    "    plt.title(\"Sentiment Score vs Average Session Time\")\n",
    "    plt.xticks(rotation=30)\n",
    "    plt.show()"
   ]
  },
  {
   "cell_type": "code",
   "execution_count": 20,
   "metadata": {},
   "outputs": [
    {
     "ename": "KeyError",
     "evalue": "'time'",
     "output_type": "error",
     "traceback": [
      "\u001b[0;31m---------------------------------------------------------------------------\u001b[0m",
      "\u001b[0;31mKeyError\u001b[0m                                  Traceback (most recent call last)",
      "Cell \u001b[0;32mIn[20], line 1\u001b[0m\n\u001b[0;32m----> 1\u001b[0m \u001b[43mplot_imaginary_sentiment_vs_time\u001b[49m\u001b[43m(\u001b[49m\u001b[38;5;241;43m10\u001b[39;49m\u001b[43m,\u001b[49m\u001b[38;5;241;43m0.2\u001b[39;49m\u001b[43m)\u001b[49m\n",
      "Cell \u001b[0;32mIn[19], line 10\u001b[0m, in \u001b[0;36mplot_imaginary_sentiment_vs_time\u001b[0;34m(time, sen)\u001b[0m\n\u001b[1;32m      7\u001b[0m df \u001b[38;5;241m=\u001b[39m pd\u001b[38;5;241m.\u001b[39mDataFrame(data)\n\u001b[1;32m      9\u001b[0m plt\u001b[38;5;241m.\u001b[39mfigure(figsize\u001b[38;5;241m=\u001b[39m(\u001b[38;5;241m10\u001b[39m, \u001b[38;5;241m6\u001b[39m))\n\u001b[0;32m---> 10\u001b[0m sns\u001b[38;5;241m.\u001b[39mlineplot(x\u001b[38;5;241m=\u001b[39m\u001b[43mdf\u001b[49m\u001b[43m[\u001b[49m\u001b[38;5;124;43m'\u001b[39;49m\u001b[38;5;124;43mtime\u001b[39;49m\u001b[38;5;124;43m'\u001b[39;49m\u001b[43m]\u001b[49m, y\u001b[38;5;241m=\u001b[39mdf[\u001b[38;5;124m'\u001b[39m\u001b[38;5;124msen\u001b[39m\u001b[38;5;124m'\u001b[39m], marker\u001b[38;5;241m=\u001b[39m\u001b[38;5;124m'\u001b[39m\u001b[38;5;124mo\u001b[39m\u001b[38;5;124m'\u001b[39m)\n\u001b[1;32m     11\u001b[0m plt\u001b[38;5;241m.\u001b[39mxlabel(\u001b[38;5;124m\"\u001b[39m\u001b[38;5;124mAverage Session Time (min)\u001b[39m\u001b[38;5;124m\"\u001b[39m)\n\u001b[1;32m     12\u001b[0m plt\u001b[38;5;241m.\u001b[39mylabel(\u001b[38;5;124m\"\u001b[39m\u001b[38;5;124mSentiment Score\u001b[39m\u001b[38;5;124m\"\u001b[39m)\n",
      "File \u001b[0;32m~/Documents/proj_grad/venv/lib/python3.10/site-packages/pandas/core/frame.py:4102\u001b[0m, in \u001b[0;36mDataFrame.__getitem__\u001b[0;34m(self, key)\u001b[0m\n\u001b[1;32m   4100\u001b[0m \u001b[38;5;28;01mif\u001b[39;00m \u001b[38;5;28mself\u001b[39m\u001b[38;5;241m.\u001b[39mcolumns\u001b[38;5;241m.\u001b[39mnlevels \u001b[38;5;241m>\u001b[39m \u001b[38;5;241m1\u001b[39m:\n\u001b[1;32m   4101\u001b[0m     \u001b[38;5;28;01mreturn\u001b[39;00m \u001b[38;5;28mself\u001b[39m\u001b[38;5;241m.\u001b[39m_getitem_multilevel(key)\n\u001b[0;32m-> 4102\u001b[0m indexer \u001b[38;5;241m=\u001b[39m \u001b[38;5;28;43mself\u001b[39;49m\u001b[38;5;241;43m.\u001b[39;49m\u001b[43mcolumns\u001b[49m\u001b[38;5;241;43m.\u001b[39;49m\u001b[43mget_loc\u001b[49m\u001b[43m(\u001b[49m\u001b[43mkey\u001b[49m\u001b[43m)\u001b[49m\n\u001b[1;32m   4103\u001b[0m \u001b[38;5;28;01mif\u001b[39;00m is_integer(indexer):\n\u001b[1;32m   4104\u001b[0m     indexer \u001b[38;5;241m=\u001b[39m [indexer]\n",
      "File \u001b[0;32m~/Documents/proj_grad/venv/lib/python3.10/site-packages/pandas/core/indexes/range.py:417\u001b[0m, in \u001b[0;36mRangeIndex.get_loc\u001b[0;34m(self, key)\u001b[0m\n\u001b[1;32m    415\u001b[0m         \u001b[38;5;28;01mraise\u001b[39;00m \u001b[38;5;167;01mKeyError\u001b[39;00m(key) \u001b[38;5;28;01mfrom\u001b[39;00m\u001b[38;5;250m \u001b[39m\u001b[38;5;21;01merr\u001b[39;00m\n\u001b[1;32m    416\u001b[0m \u001b[38;5;28;01mif\u001b[39;00m \u001b[38;5;28misinstance\u001b[39m(key, Hashable):\n\u001b[0;32m--> 417\u001b[0m     \u001b[38;5;28;01mraise\u001b[39;00m \u001b[38;5;167;01mKeyError\u001b[39;00m(key)\n\u001b[1;32m    418\u001b[0m \u001b[38;5;28mself\u001b[39m\u001b[38;5;241m.\u001b[39m_check_indexing_error(key)\n\u001b[1;32m    419\u001b[0m \u001b[38;5;28;01mraise\u001b[39;00m \u001b[38;5;167;01mKeyError\u001b[39;00m(key)\n",
      "\u001b[0;31mKeyError\u001b[0m: 'time'"
     ]
    },
    {
     "data": {
      "text/plain": [
       "<Figure size 1000x600 with 0 Axes>"
      ]
     },
     "metadata": {},
     "output_type": "display_data"
    }
   ],
   "source": [
    "\n",
    "plot_imaginary_sentiment_vs_time(10,0.2)"
   ]
  },
  {
   "cell_type": "code",
   "execution_count": 21,
   "metadata": {},
   "outputs": [],
   "source": [
    "    data = {\n",
    "        'average_session_time_min': [10, 20, 30, 40, 50],\n",
    "        'sentiment_score': [0.2, 0.5, 0.8, 0.6, 0.9]\n",
    "    }"
   ]
  },
  {
   "cell_type": "code",
   "execution_count": 1,
   "metadata": {},
   "outputs": [],
   "source": [
    "import matplotlib.pyplot as plt\n",
    "import seaborn as sns\n",
    "import pandas as pd\n",
    "\n",
    "def plot_imaginary_sentiment_vs_time(time_list, sen_list):\n",
    "    # Create the data dictionary with 'time' and 'sen' as keys\n",
    "    data = {'time': time_list, 'sen': sen_list}  \n",
    "\n",
    "    df = pd.DataFrame(data)\n",
    "    \n",
    "    plt.figure(figsize=(10, 6))\n",
    "    sns.lineplot(x=df['time'], y=df['sen'], marker='o')\n",
    "    plt.xlabel(\"Average Session Time (min)\")\n",
    "    plt.ylabel(\"Sentiment Score\")\n",
    "    plt.title(\"Sentiment Score vs Average Session Time\")\n",
    "    plt.xticks(rotation=30)\n",
    "    plt.show()"
   ]
  },
  {
   "cell_type": "code",
   "execution_count": null,
   "metadata": {},
   "outputs": [
    {
     "ename": "TypeError",
     "evalue": "plot_imaginary_sentiment_vs_time() takes 2 positional arguments but 3 were given",
     "output_type": "error",
     "traceback": [
      "\u001b[0;31m---------------------------------------------------------------------------\u001b[0m",
      "\u001b[0;31mTypeError\u001b[0m                                 Traceback (most recent call last)",
      "Cell \u001b[0;32mIn[12], line 6\u001b[0m\n\u001b[1;32m      3\u001b[0m sen_values \u001b[38;5;241m=\u001b[39m [\u001b[38;5;241m0.1\u001b[39m, \u001b[38;5;241m0.5\u001b[39m, \u001b[38;5;241m0.3\u001b[39m, \u001b[38;5;241m0.8\u001b[39m, \u001b[38;5;241m0.6\u001b[39m]\n\u001b[1;32m      5\u001b[0m \u001b[38;5;66;03m# Call the function with lists\u001b[39;00m\n\u001b[0;32m----> 6\u001b[0m \u001b[43mplot_imaginary_sentiment_vs_time\u001b[49m\u001b[43m(\u001b[49m\u001b[43mtime_values\u001b[49m\u001b[43m,\u001b[49m\u001b[43m \u001b[49m\u001b[43msen_values\u001b[49m\u001b[43m,\u001b[49m\u001b[43m \u001b[49m\u001b[38;5;124;43m\"\u001b[39;49m\u001b[38;5;124;43msentiment_vs_time.png\u001b[39;49m\u001b[38;5;124;43m\"\u001b[39;49m\u001b[43m)\u001b[49m\n",
      "\u001b[0;31mTypeError\u001b[0m: plot_imaginary_sentiment_vs_time() takes 2 positional arguments but 3 were given"
     ]
    }
   ],
   "source": [
    "\n",
    "# Example data lists\n",
    "time_values = [5, 10, 15, 20, 25]\n",
    "sen_values = [0.1, 0.5, 0.3, 0.8, 0.6]\n",
    "\n",
    "# Call the function with lists\n",
    "plot_imaginary_sentiment_vs_time(time_values, sen_values)"
   ]
  },
  {
   "cell_type": "code",
   "execution_count": 10,
   "metadata": {},
   "outputs": [
    {
     "data": {
      "image/png": "[encoded data removed]",
      "text/plain": [
       "<Figure size 800x600 with 1 Axes>"
      ]
     },
     "metadata": {},
     "output_type": "display_data"
    }
   ],
   "source": [
    "import matplotlib.pyplot as plt\n",
    "import seaborn as sns\n",
    "import pandas as pd\n",
    "\n",
    "def plot_likes_vs_comments(likes, comments):\n",
    "    \"\"\"\n",
    "    Plots Likes vs Comments.\n",
    "\n",
    "    Parameters:\n",
    "    - likes (list): List of likes.\n",
    "    - comments (list): List of comments.\n",
    "    \"\"\"\n",
    "    # Create a DataFrame\n",
    "    data = {'Likes': likes, 'Comments': comments}\n",
    "    df = pd.DataFrame(data)\n",
    "\n",
    "    # Set plot style\n",
    "    sns.set(style=\"whitegrid\")\n",
    "\n",
    "    # Plot Likes vs Comments\n",
    "    plt.figure(figsize=(8, 6))\n",
    "    sns.scatterplot(x='Likes', y='Comments', data=df, s=100, color='purple')\n",
    "\n",
    "    plt.xlabel(\"Likes\")\n",
    "    plt.ylabel(\"Comments\")\n",
    "    plt.title(\"Likes vs Comments\")\n",
    "    plt.grid(True)\n",
    "    plt.show()\n",
    "\n",
    "# Example data\n",
    "likes = [120, 150, 100, 180, 200, 250, 300]\n",
    "comments = [30, 45, 20, 50, 60, 70, 90]\n",
    "\n",
    "# Call the function\n",
    "plot_likes_vs_comments(likes, comments)\n"
   ]
  },
  {
   "cell_type": "code",
   "execution_count": 4,
   "metadata": {},
   "outputs": [
    {
     "name": "stdout",
     "output_type": "stream",
     "text": [
      "{\n",
      "    \"user_id\": \"user_123\",\n",
      "    \"stress_level\": \"low\",\n",
      "    \"frequent_content_type\": \"educational\",\n",
      "    \"sentiment_score\": \"neutral\",\n",
      "    \"average_session_time_min\": 45,\n",
      "    \"cognitive_flag\": {\n",
      "        \"code\": \"2\",\n",
      "        \"label\": \"Distracted & Emotionally Fluctuating\"\n",
      "    }\n",
      "}\n"
     ]
    }
   ],
   "source": [
    "import json\n",
    "\n",
    "# Updated mappings and logic with frequent_content_type and average_session_time_min\n",
    "def analyze_score(score):\n",
    "    if score < -0.1:\n",
    "        return 'negative'\n",
    "    elif score > 0.1:\n",
    "        return 'positive'\n",
    "    else:\n",
    "        return 'neutral'\n",
    "\n",
    "def assign_cognitive_flag(user_data):\n",
    "    mapping = {\n",
    "        # Key structure: (stress_level, frequent_content_type, sentiment)\n",
    "        ('low', 'educational', 'negative'): \"2\",\n",
    "        ('low', 'educational', 'positive'): \"1\",\n",
    "        ('low', 'educational', 'neutral'): \"2\",\n",
    "        ('low', 'entertainment', 'positive'): \"0\",\n",
    "        ('low', 'entertainment', 'negative'): \"2\",\n",
    "        ('low', 'entertainment', 'neutral'): \"1\",\n",
    "        ('high', 'educational', 'positive'): \"2\",\n",
    "        ('high', 'educational', 'negative'): \"2\",\n",
    "        ('high', 'educational', 'neutral'): \"2\",\n",
    "        ('high', 'entertainment', 'positive'): \"1\",\n",
    "        ('high', 'entertainment', 'negative'): \"2\",\n",
    "        ('high', 'entertainment', 'neutral'): \"1\",\n",
    "        # Add more mappings as needed...\n",
    "    }\n",
    "\n",
    "    label_mapping = {\n",
    "        \"0\": \"Focused & Emotionally Stable\",\n",
    "        \"1\": \"Moderate Attention & Emotionally Balanced\",\n",
    "        \"2\": \"Distracted & Emotionally Fluctuating\",\n",
    "        \"Unknown\": \"Unknown\"\n",
    "    }\n",
    "\n",
    "    # Extract values from user_data\n",
    "    stress = user_data['stress_level'].lower()\n",
    "    content_type = user_data['frequent_content_type'].lower()\n",
    "    emotion = user_data['sentiment_score'].lower()\n",
    "    session_time = user_data['average_session_time_min']\n",
    "\n",
    "    # Get the cognitive flag code\n",
    "    code = mapping.get((stress, content_type, emotion), \"Unknown\")\n",
    "    cognitive_label = label_mapping.get(code, \"Unknown\")\n",
    "\n",
    "    # Build JSON output with all fields\n",
    "    result = {\n",
    "        \"user_id\": user_data.get(\"user_id\", \"N/A\"),\n",
    "        \"stress_level\": stress,\n",
    "        \"frequent_content_type\": content_type,\n",
    "        \"sentiment_score\": emotion,\n",
    "        \"average_session_time_min\": session_time,\n",
    "        \"cognitive_flag\": {\n",
    "            \"code\": code,\n",
    "            \"label\": cognitive_label\n",
    "        }\n",
    "    }\n",
    "\n",
    "    return json.dumps(result, indent=4)\n",
    "\n",
    "# Example usage\n",
    "score = 0\n",
    "s = analyze_score(score)\n",
    "\n",
    "# Sample user data with new fields\n",
    "user_data = {\n",
    "    \"user_id\": \"user_123\",\n",
    "    \"stress_level\": \"low\",\n",
    "    \"frequent_content_type\": \"educational\",  # Replaces focus_level\n",
    "    \"sentiment_score\": s,  # s = 'neutral'\n",
    "    \"average_session_time_min\": 45  # New field\n",
    "}\n",
    "\n",
    "# Generate JSON output\n",
    "json_output = assign_cognitive_flag(user_data)\n",
    "print(json_output)"
   ]
  },
  {
   "cell_type": "code",
   "execution_count": 7,
   "metadata": {},
   "outputs": [],
   "source": [
    "import matplotlib.pyplot as plt\n",
    "import seaborn as sns\n",
    "import pandas as pd\n",
    "\n",
    "def plot_imaginary_sentiment_vs_time(time_list, sen_list):\n",
    "    # Create the data dictionary with 'time' and 'sen' as keys\n",
    "    data = {'time': time_list, 'sen': sen_list}  \n",
    "\n",
    "    df = pd.DataFrame(data)\n",
    "    \n",
    "    plt.figure(figsize=(10, 6))\n",
    "    sns.lineplot(x=df['time'], y=df['sen'], marker='o')\n",
    "    plt.xlabel(\"Average Session Time (min)\")\n",
    "    plt.ylabel(\"Sentiment Score\")\n",
    "    plt.title(\"Sentiment Score vs Average Session Time\")\n",
    "    plt.xticks(rotation=30)\n",
    "    plt.show()\n",
    "import matplotlib.pyplot as plt\n",
    "import seaborn as sns\n",
    "import pandas as pd\n",
    "\n",
    "def plot_likes_vs_comments(likes, comments):\n",
    "    \"\"\"\n",
    "    Plots Likes vs Comments.\n",
    "\n",
    "    Parameters:\n",
    "    - likes (list): List of likes.\n",
    "    - comments (list): List of comments.\n",
    "    \"\"\"\n",
    "    # Create a DataFrame\n",
    "    data = {'Likes': likes, 'Comments': comments}\n",
    "    df = pd.DataFrame(data)\n",
    "\n",
    "    # Set plot style\n",
    "    sns.set(style=\"whitegrid\")\n",
    "\n",
    "    # Plot Likes vs Comments\n",
    "    plt.figure(figsize=(8, 6))\n",
    "    sns.scatterplot(x='Likes', y='Comments', data=df, s=100, color='purple')\n",
    "\n",
    "    plt.xlabel(\"Likes\")\n",
    "    plt.ylabel(\"Comments\")\n",
    "    plt.title(\"Likes vs Comments\")\n",
    "    plt.grid(True)\n",
    "    plt.show()\n",
    "\n",
    "# Example data\n",
    "likes = [120, 150, 100, 180, 200, 250, 300]\n",
    "comments = [30, 45, 20, 50, 60, 70, 90]\n",
    "\n",
    "time_values = [5, 10, 15, 20, 25]\n",
    "sen_values = [0.1, 0.5, 0.3, 0.8, 0.6]\n",
    "def x(likes,comments):\n",
    "    return plot_likes_vs_comments(likes, sen_values)\n",
    "def y(time_values,sen_values):\n",
    "    return plot_likes_vs_comments(time_values, sen_values)"
   ]
  },
  {
   "cell_type": "code",
   "execution_count": 13,
   "metadata": {},
   "outputs": [],
   "source": [
    "import pickle\n",
    "import joblib\n",
    "def prd(x):\n",
    "    model1=joblib.load('stress_model1.pkl')\n",
    "    a=model1.predict(x)\n",
    "    \n",
    "    return(a[0])"
   ]
  },
  {
   "cell_type": "code",
   "execution_count": 18,
   "metadata": {},
   "outputs": [
    {
     "name": "stderr",
     "output_type": "stream",
     "text": [
      "/Users/chaitanya/Documents/proj_grad/venv/lib/python3.10/site-packages/sklearn/utils/validation.py:2739: UserWarning: X does not have valid feature names, but LogisticRegression was fitted with feature names\n",
      "  warnings.warn(\n"
     ]
    },
    {
     "data": {
      "text/plain": [
       "'low'"
      ]
     },
     "execution_count": 18,
     "metadata": {},
     "output_type": "execute_result"
    }
   ],
   "source": [
    "p=[[10,170,0.7,60]]\n",
    "\n",
    "prd(p)"
   ]
  },
  {
   "cell_type": "code",
   "execution_count": null,
   "metadata": {},
   "outputs": [
    {
     "ename": "TypeError",
     "evalue": "write() argument must be str, not dict",
     "output_type": "error",
     "traceback": [
      "\u001b[0;31m---------------------------------------------------------------------------\u001b[0m",
      "\u001b[0;31mTypeError\u001b[0m                                 Traceback (most recent call last)",
      "Cell \u001b[0;32mIn[25], line 3\u001b[0m\n\u001b[1;32m      1\u001b[0m d\u001b[38;5;241m=\u001b[39m{\u001b[38;5;124m'\u001b[39m\u001b[38;5;124mfocus level\u001b[39m\u001b[38;5;124m'\u001b[39m:p}\n\u001b[1;32m      2\u001b[0m \u001b[38;5;28;01mwith\u001b[39;00m \u001b[38;5;28mopen\u001b[39m(\u001b[38;5;124m'\u001b[39m\u001b[38;5;124mfocus.json\u001b[39m\u001b[38;5;124m'\u001b[39m,\u001b[38;5;124m'\u001b[39m\u001b[38;5;124mw\u001b[39m\u001b[38;5;124m'\u001b[39m)\u001b[38;5;28;01mas\u001b[39;00m f:\n\u001b[0;32m----> 3\u001b[0m     \u001b[43mf\u001b[49m\u001b[38;5;241;43m.\u001b[39;49m\u001b[43mwrite\u001b[49m\u001b[43m(\u001b[49m\u001b[43md\u001b[49m\u001b[43m)\u001b[49m\n",
      "\u001b[0;31mTypeError\u001b[0m: write() argument must be str, not dict"
     ]
    }
   ],
   "source": [
    "\n",
    "d={'focus level': p}\n",
    "with open('focus.json','w')as f:\n",
    "    f.write(d)"
   ]
  },
  {
   "cell_type": "code",
   "execution_count": null,
   "metadata": {},
   "outputs": [
    {
     "ename": "NameError",
     "evalue": "name 'item' is not defined",
     "output_type": "error",
     "traceback": [
      "\u001b[0;31m---------------------------------------------------------------------------\u001b[0m",
      "\u001b[0;31mNameError\u001b[0m                                 Traceback (most recent call last)",
      "Cell \u001b[0;32mIn[22], line 1\u001b[0m\n\u001b[0;32m----> 1\u001b[0m strong_list \u001b[38;5;241m=\u001b[39m [\u001b[38;5;124m\"\u001b[39m\u001b[38;5;124mstrong\u001b[39m\u001b[38;5;124m\"\u001b[39m \u001b[38;5;241m+\u001b[39m p \u001b[38;5;28;01mfor\u001b[39;00m item \u001b[38;5;129;01min\u001b[39;00m \u001b[43mitem\u001b[49m]\n\u001b[1;32m      2\u001b[0m \u001b[38;5;28mprint\u001b[39m(strong_list)  \u001b[38;5;66;03m# Output: ['strongitem1', 'strongitem2', 'strongitem3']\u001b[39;00m\n",
      "\u001b[0;31mNameError\u001b[0m: name 'item' is not defined"
     ]
    }
   ],
   "source": [
    "\n"
   ]
  },
  {
   "cell_type": "code",
   "execution_count": 26,
   "metadata": {},
   "outputs": [],
   "source": [
    "x=\"focus level = LOW\"\n",
    "with open('focus.json','w')as f:\n",
    "    f.write(x)"
   ]
  },
  {
   "cell_type": "code",
   "execution_count": null,
   "metadata": {},
   "outputs": [],
   "source": []
  },
  {
   "cell_type": "code",
   "execution_count": null,
   "metadata": {},
   "outputs": [
    {
     "ename": "TypeError",
     "evalue": "write() argument must be str, not dict",
     "output_type": "error",
     "traceback": [
      "\u001b[0;31m---------------------------------------------------------------------------\u001b[0m\n",
      "\u001b[0;31mTypeError\u001b[0m                                 Traceback (most recent call last)\n",
      "Cell \u001b[0;32mIn[25], line 3\u001b[0m\n",
      "\u001b[1;32m      1\u001b[0m d\u001b[38;5;241m=\u001b[39m{\u001b[38;5;124m'\u001b[39m\u001b[38;5;124mfocus level\u001b[39m\u001b[38;5;124m'\u001b[39m:p}\n",
      "\u001b[1;32m      2\u001b[0m \u001b[38;5;28;01mwith\u001b[39;00m \u001b[38;5;28mopen\u001b[39m(\u001b[38;5;124m'\u001b[39m\u001b[38;5;124mfocus.json\u001b[39m\u001b[38;5;124m'\u001b[39m,\u001b[38;5;124m'\u001b[39m\u001b[38;5;124mw\u001b[39m\u001b[38;5;124m'\u001b[39m)\u001b[38;5;28;01mas\u001b[39;00m f:\n",
      "\u001b[0;32m----> 3\u001b[0m     \u001b[43mf\u001b[49m\u001b[38;5;241;43m.\u001b[39;49m\u001b[43mwrite\u001b[49m\u001b[43m(\u001b[49m\u001b[43md\u001b[49m\u001b[43m)\u001b[49m\n",
      "\n",
      "\u001b[0;31mTypeError\u001b[0m: write() argument must be str, not dict"
     ]
    }
   ],
   "source": [
    "\n",
    "d={'focus level': p}\n",
    "with open('focus.json','w')as f:\n",
    "    f.write(d)"
   ]
  },
  {
   "cell_type": "code",
   "execution_count": 12,
   "metadata": {},
   "outputs": [
    {
     "name": "stdout",
     "output_type": "stream",
     "text": [
      "🎯 Hey, champion! You've been rocking it online! But now, it's mission time—step away, smash that priority task, and come back even stronger! 🚀🔥\n",
      "🌟 Hey there! Here's a great idea: Explore the world around you! Try reading a book or going for a walk instead. 🌿📖 🚀\n"
     ]
    }
   ],
   "source": [
    "import tkinter as tk\n",
    "from tkinter import messagebox\n",
    "import os\n",
    "\n",
    "def show_recommendation(recommendation, user_session_time, avg_session_time):\n",
    "    if user_session_time > avg_session_time:\n",
    "        reminder_message = \"🎯 Hey, champion! You've been rocking it online! But now, it's mission time—step away, smash that priority task, and come back even stronger! 🚀🔥\"\n",
    "        # Check if DISPLAY environment variable is set, if not, it's likely a headless environment\n",
    "        if not os.environ.get(\"DISPLAY\"):\n",
    "            print(reminder_message)  # Print reminder to console if no display\n",
    "        else:\n",
    "            root = tk.Tk()\n",
    "            root.withdraw()\n",
    "            messagebox.showwarning(\"Time Reminder\", reminder_message)\n",
    "\n",
    "    if recommendation:\n",
    "        alternative_recommendations = {\n",
    "            \"Connect with a friend\": \"Strengthen your bonds! Call up a friend and share a good laugh. 😄📞\",\n",
    "            \"Listen to calming music\": \"Relax and recharge! Put on your favorite soothing tunes and let the stress melt away. 🎶✨\",\n",
    "            \"Engage in physical exercise\": \"Get moving! A short walk or a dance session can uplift your mood instantly. 🚶‍♂️💃\",\n",
    "            \"Try mindfulness activity\": \"Find your inner peace! Take a deep breath and enjoy a few minutes of meditation. 🧘‍♂️✨\",\n",
    "            \"Limit screen time\": \"Explore the world around you! Try reading a book or going for a walk instead. 🌿📖\",\n",
    "            \"Take a short break\": \"Time for a mini-adventure! Stretch your legs, grab a snack, or look out the window and daydream for a bit. 🚀🌿\"\n",
    "        }\n",
    "\n",
    "        positive_message = alternative_recommendations.get(recommendation, recommendation)\n",
    "        enhanced_message = f\"🌟 Hey there! Here's a great idea: {positive_message} 🚀\"\n",
    "\n",
    "        # Check for DISPLAY environment variable for headless environment\n",
    "        if not os.environ.get(\"DISPLAY\"):\n",
    "            print(enhanced_message)  # Print message to console if no display\n",
    "        else:\n",
    "            root = tk.Tk()\n",
    "            root.withdraw()\n",
    "            messagebox.showinfo(\"Your Personalized Tip\", enhanced_message)\n",
    "    else:\n",
    "        # Check for DISPLAY environment variable for headless environment\n",
    "        if not os.environ.get(\"DISPLAY\"):\n",
    "            print(\"🌟 Stay awesome! More tips coming soon!\")  # Print to console if no display\n",
    "        else:\n",
    "            messagebox.showinfo(\"Your Personalized Tip\", \"🌟 Stay awesome! More tips coming soon!\")\n",
    "\n",
    "# Example usage\n",
    "user_recommendation = \"Limit screen time\"\n",
    "user_session_time = 160\n",
    "avg_session_time = 152.11\n",
    "x=show_recommendation(user_recommendation, user_session_time, avg_session_time)"
   ]
  },
  {
   "cell_type": "code",
   "execution_count": 30,
   "metadata": {},
   "outputs": [],
   "source": [
    "d={'user_recommendation': \"Limit screen time\",\n",
    "\"user_session_time\": 160,\n",
    "'avg_session_time': 152.11,\n",
    "\"Summary\":\"🎯 Hey, champion! You've been rocking it online! But now, it's mission time—step away, smash that priority task, and come back even stronger! 🚀🔥 🌟 Hey there! Here's a great idea: Explore the world around you! Try \"}\n",
    "import json\n",
    "with open('report.json','w')as f:\n",
    "    # Use json.dump() to write the dictionary as JSON to the file\n",
    "    json.dump(d, f)\n"
   ]
  },
  {
   "cell_type": "code",
   "execution_count": 28,
   "metadata": {},
   "outputs": [
    {
     "name": "stdout",
     "output_type": "stream",
     "text": [
      "Error sending email: EOF occurred in violation of protocol (_ssl.c:997)\n"
     ]
    },
    {
     "ename": "SMTPServerDisconnected",
     "evalue": "Server not connected",
     "output_type": "error",
     "traceback": [
      "\u001b[0;31m---------------------------------------------------------------------------\u001b[0m",
      "\u001b[0;31mOSError\u001b[0m                                   Traceback (most recent call last)",
      "File \u001b[0;32m~/Documents/proj_grad/venv/lib/python3.10/smtplib.py:360\u001b[0m, in \u001b[0;36mSMTP.send\u001b[0;34m(self, s)\u001b[0m\n\u001b[1;32m    359\u001b[0m \u001b[38;5;28;01mtry\u001b[39;00m:\n\u001b[0;32m--> 360\u001b[0m     \u001b[38;5;28;43mself\u001b[39;49m\u001b[38;5;241;43m.\u001b[39;49m\u001b[43msock\u001b[49m\u001b[38;5;241;43m.\u001b[39;49m\u001b[43msendall\u001b[49m\u001b[43m(\u001b[49m\u001b[43ms\u001b[49m\u001b[43m)\u001b[49m\n\u001b[1;32m    361\u001b[0m \u001b[38;5;28;01mexcept\u001b[39;00m \u001b[38;5;167;01mOSError\u001b[39;00m:\n",
      "\u001b[0;31mOSError\u001b[0m: [Errno 9] Bad file descriptor",
      "\nDuring handling of the above exception, another exception occurred:\n",
      "\u001b[0;31mSMTPServerDisconnected\u001b[0m                    Traceback (most recent call last)",
      "Cell \u001b[0;32mIn[28], line 50\u001b[0m\n\u001b[1;32m     47\u001b[0m message \u001b[38;5;241m=\u001b[39m \u001b[38;5;124m'\u001b[39m\u001b[38;5;124m🎯 Hey, champion! You have been rocking it online! But now, its mission time—step away, smash that priority task, and come back even stronger! 🚀🔥🌟 Hey there! Heres a great idea: Explore the world around you! Try reading a book or going for a walk instead. 🌿📖 🚀\u001b[39m\u001b[38;5;124m'\u001b[39m\n\u001b[1;32m     48\u001b[0m png_file_path \u001b[38;5;241m=\u001b[39m \u001b[38;5;124m\"\u001b[39m\u001b[38;5;124msentiment_vs_time.png\u001b[39m\u001b[38;5;124m\"\u001b[39m  \u001b[38;5;66;03m# Replace with the path to your PNG file\u001b[39;00m\n\u001b[0;32m---> 50\u001b[0m \u001b[43msend_email_with_png\u001b[49m\u001b[43m(\u001b[49m\u001b[43msender_email\u001b[49m\u001b[43m,\u001b[49m\u001b[43m \u001b[49m\u001b[43msender_password\u001b[49m\u001b[43m,\u001b[49m\u001b[43m \u001b[49m\u001b[43mreceiver_email\u001b[49m\u001b[43m,\u001b[49m\u001b[43m \u001b[49m\u001b[43msubject\u001b[49m\u001b[43m,\u001b[49m\u001b[43m \u001b[49m\u001b[43mmessage\u001b[49m\u001b[43m,\u001b[49m\u001b[43m \u001b[49m\u001b[43mpng_file_path\u001b[49m\u001b[43m)\u001b[49m\n",
      "Cell \u001b[0;32mIn[28], line 40\u001b[0m, in \u001b[0;36msend_email_with_png\u001b[0;34m(sender_email, sender_password, receiver_email, subject, message, png_file_path)\u001b[0m\n\u001b[1;32m     38\u001b[0m     \u001b[38;5;28mprint\u001b[39m(\u001b[38;5;124mf\u001b[39m\u001b[38;5;124m\"\u001b[39m\u001b[38;5;124mError sending email: \u001b[39m\u001b[38;5;132;01m{\u001b[39;00me\u001b[38;5;132;01m}\u001b[39;00m\u001b[38;5;124m\"\u001b[39m)\n\u001b[1;32m     39\u001b[0m \u001b[38;5;28;01mfinally\u001b[39;00m:\n\u001b[0;32m---> 40\u001b[0m     \u001b[43mserver\u001b[49m\u001b[38;5;241;43m.\u001b[39;49m\u001b[43mquit\u001b[49m\u001b[43m(\u001b[49m\u001b[43m)\u001b[49m\n",
      "File \u001b[0;32m~/Documents/proj_grad/venv/lib/python3.10/smtplib.py:1004\u001b[0m, in \u001b[0;36mSMTP.quit\u001b[0;34m(self)\u001b[0m\n\u001b[1;32m   1002\u001b[0m \u001b[38;5;28;01mdef\u001b[39;00m\u001b[38;5;250m \u001b[39m\u001b[38;5;21mquit\u001b[39m(\u001b[38;5;28mself\u001b[39m):\n\u001b[1;32m   1003\u001b[0m \u001b[38;5;250m    \u001b[39m\u001b[38;5;124;03m\"\"\"Terminate the SMTP session.\"\"\"\u001b[39;00m\n\u001b[0;32m-> 1004\u001b[0m     res \u001b[38;5;241m=\u001b[39m \u001b[38;5;28;43mself\u001b[39;49m\u001b[38;5;241;43m.\u001b[39;49m\u001b[43mdocmd\u001b[49m\u001b[43m(\u001b[49m\u001b[38;5;124;43m\"\u001b[39;49m\u001b[38;5;124;43mquit\u001b[39;49m\u001b[38;5;124;43m\"\u001b[39;49m\u001b[43m)\u001b[49m\n\u001b[1;32m   1005\u001b[0m     \u001b[38;5;66;03m# A new EHLO is required after reconnecting with connect()\u001b[39;00m\n\u001b[1;32m   1006\u001b[0m     \u001b[38;5;28mself\u001b[39m\u001b[38;5;241m.\u001b[39mehlo_resp \u001b[38;5;241m=\u001b[39m \u001b[38;5;28mself\u001b[39m\u001b[38;5;241m.\u001b[39mhelo_resp \u001b[38;5;241m=\u001b[39m \u001b[38;5;28;01mNone\u001b[39;00m\n",
      "File \u001b[0;32m~/Documents/proj_grad/venv/lib/python3.10/smtplib.py:431\u001b[0m, in \u001b[0;36mSMTP.docmd\u001b[0;34m(self, cmd, args)\u001b[0m\n\u001b[1;32m    429\u001b[0m \u001b[38;5;28;01mdef\u001b[39;00m\u001b[38;5;250m \u001b[39m\u001b[38;5;21mdocmd\u001b[39m(\u001b[38;5;28mself\u001b[39m, cmd, args\u001b[38;5;241m=\u001b[39m\u001b[38;5;124m\"\u001b[39m\u001b[38;5;124m\"\u001b[39m):\n\u001b[1;32m    430\u001b[0m \u001b[38;5;250m    \u001b[39m\u001b[38;5;124;03m\"\"\"Send a command, and return its response code.\"\"\"\u001b[39;00m\n\u001b[0;32m--> 431\u001b[0m     \u001b[38;5;28;43mself\u001b[39;49m\u001b[38;5;241;43m.\u001b[39;49m\u001b[43mputcmd\u001b[49m\u001b[43m(\u001b[49m\u001b[43mcmd\u001b[49m\u001b[43m,\u001b[49m\u001b[43m \u001b[49m\u001b[43margs\u001b[49m\u001b[43m)\u001b[49m\n\u001b[1;32m    432\u001b[0m     \u001b[38;5;28;01mreturn\u001b[39;00m \u001b[38;5;28mself\u001b[39m\u001b[38;5;241m.\u001b[39mgetreply()\n",
      "File \u001b[0;32m~/Documents/proj_grad/venv/lib/python3.10/smtplib.py:378\u001b[0m, in \u001b[0;36mSMTP.putcmd\u001b[0;34m(self, cmd, args)\u001b[0m\n\u001b[1;32m    374\u001b[0m     s \u001b[38;5;241m=\u001b[39m s\u001b[38;5;241m.\u001b[39mreplace(\u001b[38;5;124m'\u001b[39m\u001b[38;5;130;01m\\n\u001b[39;00m\u001b[38;5;124m'\u001b[39m, \u001b[38;5;124m'\u001b[39m\u001b[38;5;130;01m\\\\\u001b[39;00m\u001b[38;5;124mn\u001b[39m\u001b[38;5;124m'\u001b[39m)\u001b[38;5;241m.\u001b[39mreplace(\u001b[38;5;124m'\u001b[39m\u001b[38;5;130;01m\\r\u001b[39;00m\u001b[38;5;124m'\u001b[39m, \u001b[38;5;124m'\u001b[39m\u001b[38;5;130;01m\\\\\u001b[39;00m\u001b[38;5;124mr\u001b[39m\u001b[38;5;124m'\u001b[39m)\n\u001b[1;32m    375\u001b[0m     \u001b[38;5;28;01mraise\u001b[39;00m \u001b[38;5;167;01mValueError\u001b[39;00m(\n\u001b[1;32m    376\u001b[0m         \u001b[38;5;124mf\u001b[39m\u001b[38;5;124m'\u001b[39m\u001b[38;5;124mcommand and arguments contain prohibited newline characters: \u001b[39m\u001b[38;5;132;01m{\u001b[39;00ms\u001b[38;5;132;01m}\u001b[39;00m\u001b[38;5;124m'\u001b[39m\n\u001b[1;32m    377\u001b[0m     )\n\u001b[0;32m--> 378\u001b[0m \u001b[38;5;28;43mself\u001b[39;49m\u001b[38;5;241;43m.\u001b[39;49m\u001b[43msend\u001b[49m\u001b[43m(\u001b[49m\u001b[38;5;124;43mf\u001b[39;49m\u001b[38;5;124;43m'\u001b[39;49m\u001b[38;5;132;43;01m{\u001b[39;49;00m\u001b[43ms\u001b[49m\u001b[38;5;132;43;01m}\u001b[39;49;00m\u001b[38;5;132;43;01m{\u001b[39;49;00m\u001b[43mCRLF\u001b[49m\u001b[38;5;132;43;01m}\u001b[39;49;00m\u001b[38;5;124;43m'\u001b[39;49m\u001b[43m)\u001b[49m\n",
      "File \u001b[0;32m~/Documents/proj_grad/venv/lib/python3.10/smtplib.py:363\u001b[0m, in \u001b[0;36mSMTP.send\u001b[0;34m(self, s)\u001b[0m\n\u001b[1;32m    361\u001b[0m     \u001b[38;5;28;01mexcept\u001b[39;00m \u001b[38;5;167;01mOSError\u001b[39;00m:\n\u001b[1;32m    362\u001b[0m         \u001b[38;5;28mself\u001b[39m\u001b[38;5;241m.\u001b[39mclose()\n\u001b[0;32m--> 363\u001b[0m         \u001b[38;5;28;01mraise\u001b[39;00m SMTPServerDisconnected(\u001b[38;5;124m'\u001b[39m\u001b[38;5;124mServer not connected\u001b[39m\u001b[38;5;124m'\u001b[39m)\n\u001b[1;32m    364\u001b[0m \u001b[38;5;28;01melse\u001b[39;00m:\n\u001b[1;32m    365\u001b[0m     \u001b[38;5;28;01mraise\u001b[39;00m SMTPServerDisconnected(\u001b[38;5;124m'\u001b[39m\u001b[38;5;124mplease run connect() first\u001b[39m\u001b[38;5;124m'\u001b[39m)\n",
      "\u001b[0;31mSMTPServerDisconnected\u001b[0m: Server not connected"
     ]
    }
   ],
   "source": [
    "import smtplib\n",
    "from email.mime.text import MIMEText\n",
    "from email.mime.multipart import MIMEMultipart\n",
    "from email.mime.image import MIMEImage\n",
    "\n",
    "def send_email_with_png(sender_email, sender_password, receiver_email, subject, message, png_file_path):\n",
    "    \"\"\"\n",
    "    Sends an email with a PNG file attachment.\n",
    "\n",
    "    Args:\n",
    "        sender_email (str): The sender's email address.\n",
    "        sender_password (str): The sender's email password.\n",
    "        receiver_email (str): The recipient's email address.\n",
    "        subject (str): The subject of the email.\n",
    "        message (str): The body of the email.\n",
    "        png_file_path (str): The path to the PNG file to attach.\n",
    "    \"\"\"\n",
    "    msg = MIMEMultipart()\n",
    "    msg['From'] = sender_email\n",
    "    msg['To'] = receiver_email\n",
    "    msg['Subject'] = subject\n",
    "\n",
    "    msg.attach(MIMEText(message, 'plain'))\n",
    "\n",
    "    # Attach the PNG file\n",
    "    with open(png_file_path, 'rb') as f:\n",
    "        image = MIMEImage(f.read(), name=os.path.basename(png_file_path))\n",
    "    msg.attach(image)\n",
    "\n",
    "    try:\n",
    "        server = smtplib.SMTP('smtp.gmail.com', 587) \n",
    "        server.starttls()\n",
    "        server.login(sender_email, sender_password)\n",
    "        text = msg.as_string()\n",
    "        server.sendmail(sender_email, receiver_email, text)\n",
    "        print(\"Email with PNG attachment sent successfully!\")\n",
    "    except Exception as e:\n",
    "        print(f\"Error sending email: {e}\")\n",
    "    finally:\n",
    "        server.quit()\n",
    "f=str(x)\n",
    "# Example usage:\n",
    "sender_email = \"cherrychaitu054@gmail.com\"  # Replace with your email\n",
    "sender_password = \"yqge lhko hwce gibu\"  # Replace with your password\n",
    "receiver_email = \"cherrychaitu054@gmail.com\"  # Replace with recipient's email\n",
    "subject = \"YOUR ACTIVITY\" \n",
    "message = '🎯 Hey, champion! You have been rocking it online! But now, its mission time—step away, smash that priority task, and come back even stronger! 🚀🔥🌟 Hey there! Heres a great idea: Explore the world around you! Try reading a book or going for a walk instead. 🌿📖 🚀'\n",
    "png_file_path = \"sentiment_vs_time.png\"  # Replace with the path to your PNG file\n",
    "\n",
    "send_email_with_png(sender_email, sender_password, receiver_email, subject, message, png_file_path)"
   ]
  },
  {
   "cell_type": "code",
   "execution_count": 21,
   "metadata": {},
   "outputs": [],
   "source": [
    "import smtplib\n",
    "import os\n",
    "from email.mime.text import MIMEText\n",
    "from email.mime.multipart import MIMEMultipart\n",
    "from email.mime.image import MIMEImage\n",
    "\n",
    "def send_email_with_two_messages_two_pngs(sender_email, sender_password, receiver_email, subject, message1, message2, png_file_path1, png_file_path2):\n",
    "    \"\"\"\n",
    "    Sends an email with two separate messages, two PNG file attachments, and a body message.\n",
    "\n",
    "    Args:\n",
    "        sender_email (str): The sender's email address.\n",
    "        sender_password (str): The sender's email password.\n",
    "        receiver_email (str): The recipient's email address.\n",
    "        subject (str): The subject of the email.\n",
    "        message1 (str): The first message to include in the email body.\n",
    "        message2 (str): The second message to include in the email body.\n",
    "        png_file_path1 (str): The path to the first PNG file to attach.\n",
    "        png_file_path2 (str): The path to the second PNG file to attach.\n",
    "    \"\"\"\n",
    "    msg = MIMEMultipart()\n",
    "    msg['From'] = sender_email\n",
    "    msg['To'] = receiver_email\n",
    "    msg['Subject'] = subject\n",
    "\n",
    "    # Create the combined message with two separate parts\n",
    "    body = MIMEMultipart('alternative')\n",
    "\n",
    "    # Attach the first message\n",
    "    body.attach(MIMEText(message1, 'plain'))\n",
    "\n",
    "    # Attach the second message\n",
    "    body.attach(MIMEText(message2, 'plain'))\n",
    "\n",
    "    # Attach the combined message to the main email\n",
    "    msg.attach(body)\n",
    "    \n",
    "\n",
    "    # Attach the first PNG file\n",
    "    with open(png_file_path1, 'rb') as f:\n",
    "        image1 = MIMEImage(f.read(), name=os.path.basename(png))"
   ]
  },
  {
   "cell_type": "code",
   "execution_count": 22,
   "metadata": {},
   "outputs": [
    {
     "ename": "NameError",
     "evalue": "name 'png' is not defined",
     "output_type": "error",
     "traceback": [
      "\u001b[0;31m---------------------------------------------------------------------------\u001b[0m",
      "\u001b[0;31mNameError\u001b[0m                                 Traceback (most recent call last)",
      "Cell \u001b[0;32mIn[22], line 10\u001b[0m\n\u001b[1;32m      7\u001b[0m png_file_path \u001b[38;5;241m=\u001b[39m \u001b[38;5;124m\"\u001b[39m\u001b[38;5;124msentiment_vs_time.png\u001b[39m\u001b[38;5;124m\"\u001b[39m  \u001b[38;5;66;03m# Replace with the path to your PNG file\u001b[39;00m\n\u001b[1;32m      8\u001b[0m g\u001b[38;5;241m=\u001b[39m\u001b[38;5;124m'\u001b[39m\u001b[38;5;124mlike vs comments.png\u001b[39m\u001b[38;5;124m'\u001b[39m\n\u001b[0;32m---> 10\u001b[0m \u001b[43msend_email_with_two_messages_two_pngs\u001b[49m\u001b[43m(\u001b[49m\u001b[43msender_email\u001b[49m\u001b[43m,\u001b[49m\u001b[43m \u001b[49m\u001b[43msender_password\u001b[49m\u001b[43m,\u001b[49m\u001b[43m \u001b[49m\u001b[43mreceiver_email\u001b[49m\u001b[43m,\u001b[49m\u001b[43m \u001b[49m\u001b[43msubject\u001b[49m\u001b[43m,\u001b[49m\u001b[43m \u001b[49m\u001b[43mmessage\u001b[49m\u001b[43m,\u001b[49m\u001b[43m \u001b[49m\u001b[43mme\u001b[49m\u001b[43m,\u001b[49m\u001b[43mpng_file_path\u001b[49m\u001b[43m,\u001b[49m\u001b[43mg\u001b[49m\u001b[43m)\u001b[49m\n",
      "Cell \u001b[0;32mIn[21], line 41\u001b[0m, in \u001b[0;36msend_email_with_two_messages_two_pngs\u001b[0;34m(sender_email, sender_password, receiver_email, subject, message1, message2, png_file_path1, png_file_path2)\u001b[0m\n\u001b[1;32m     39\u001b[0m \u001b[38;5;66;03m# Attach the first PNG file\u001b[39;00m\n\u001b[1;32m     40\u001b[0m \u001b[38;5;28;01mwith\u001b[39;00m \u001b[38;5;28mopen\u001b[39m(png_file_path1, \u001b[38;5;124m'\u001b[39m\u001b[38;5;124mrb\u001b[39m\u001b[38;5;124m'\u001b[39m) \u001b[38;5;28;01mas\u001b[39;00m f:\n\u001b[0;32m---> 41\u001b[0m     image1 \u001b[38;5;241m=\u001b[39m MIMEImage(f\u001b[38;5;241m.\u001b[39mread(), name\u001b[38;5;241m=\u001b[39mos\u001b[38;5;241m.\u001b[39mpath\u001b[38;5;241m.\u001b[39mbasename(\u001b[43mpng\u001b[49m))\n",
      "\u001b[0;31mNameError\u001b[0m: name 'png' is not defined"
     ]
    }
   ],
   "source": [
    "sender_email = \"cherrychaitu054@gmail.com\"  # Replace with your email\n",
    "sender_password = \"yqge lhko hwce gibu\"  # Replace with your password\n",
    "receiver_email = \"cherrychaitu054@gmail.com\"  # Replace with recipient's email\n",
    "subject = \"YOUR ACTIVITY\" \n",
    "message = \"x\"\n",
    "me=\"focus level = low\"\n",
    "png_file_path = \"sentiment_vs_time.png\"  # Replace with the path to your PNG file\n",
    "g='like vs comments.png'\n",
    "\n",
    "send_email_with_two_messages_two_pngs(sender_email, sender_password, receiver_email, subject, message, me,png_file_path,g)"
   ]
  },
  {
   "cell_type": "code",
   "execution_count": null,
   "metadata": {},
   "outputs": [],
   "source": []
  }
 ],
 "metadata": {
  "kernelspec": {
   "display_name": "Python 3",
   "language": "python",
   "name": "python3"
  },
  "language_info": {
   "codemirror_mode": {
    "name": "ipython",
    "version": 3
   },
   "file_extension": ".py",
   "mimetype": "text/x-python",
   "name": "python",
   "nbconvert_exporter": "python",
   "pygments_lexer": "ipython3",
   "version": "3.10.0"
  }
 },
 "nbformat": 4,
 "nbformat_minor": 2
}
